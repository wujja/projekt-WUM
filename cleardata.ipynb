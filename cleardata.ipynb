{
 "cells": [
  {
   "cell_type": "code",
   "execution_count": 352,
   "metadata": {},
   "outputs": [
    {
     "name": "stderr",
     "output_type": "stream",
     "text": [
      "C:\\Users\\manar\\AppData\\Local\\Temp\\ipykernel_16432\\2050797132.py:13: DtypeWarning: Columns (68) have mixed types. Specify dtype option on import or set low_memory=False.\n",
      "  df_list = pd.read_csv('listings.csv', converters={'amenities':JsonParser})\n"
     ]
    }
   ],
   "source": [
    "import pandas as pd\n",
    "import time\n",
    "import plotly.graph_objects as go \n",
    "import plotly.express as px\n",
    "import numpy as np\n",
    "\n",
    "def JsonParser(data):\n",
    "    import json\n",
    "    js = json.loads(data)\n",
    "    return js\n",
    "\n",
    "\n",
    "df_list = pd.read_csv('listings.csv', converters={'amenities':JsonParser})\n",
    "\n",
    "df_compare = pd.DataFrame(columns=['Nazwa', 'Czas', 'F. Straty', 'RMSE'])"
   ]
  },
  {
   "cell_type": "code",
   "execution_count": 353,
   "metadata": {},
   "outputs": [
    {
     "data": {
      "text/plain": [
       "(39881, 75)"
      ]
     },
     "execution_count": 353,
     "metadata": {},
     "output_type": "execute_result"
    }
   ],
   "source": [
    "df_list.shape"
   ]
  },
  {
   "cell_type": "code",
   "execution_count": 354,
   "metadata": {},
   "outputs": [
    {
     "data": {
      "text/plain": [
       "array(['city scrape', 'previous scrape'], dtype=object)"
      ]
     },
     "execution_count": 354,
     "metadata": {},
     "output_type": "execute_result"
    }
   ],
   "source": [
    "df_list['source'].unique()"
   ]
  },
  {
   "cell_type": "code",
   "execution_count": 355,
   "metadata": {},
   "outputs": [
    {
     "data": {
      "text/plain": [
       "array(['Private room', 'Entire home/apt', 'Hotel room', 'Shared room'],\n",
       "      dtype=object)"
      ]
     },
     "execution_count": 355,
     "metadata": {},
     "output_type": "execute_result"
    }
   ],
   "source": [
    "df_list['room_type'].unique()"
   ]
  },
  {
   "cell_type": "code",
   "execution_count": 356,
   "metadata": {},
   "outputs": [
    {
     "data": {
      "text/plain": [
       "0        $299.00\n",
       "1        $175.00\n",
       "2         $60.00\n",
       "3        $425.00\n",
       "4        $275.00\n",
       "          ...   \n",
       "39876    $157.00\n",
       "39877    $108.00\n",
       "39878    $140.00\n",
       "39879    $400.00\n",
       "39880     $40.00\n",
       "Name: price, Length: 39881, dtype: object"
      ]
     },
     "execution_count": 356,
     "metadata": {},
     "output_type": "execute_result"
    }
   ],
   "source": [
    "df_list['price']"
   ]
  },
  {
   "cell_type": "code",
   "execution_count": 357,
   "metadata": {},
   "outputs": [
    {
     "data": {
      "text/plain": [
       "Index(['id', 'listing_url', 'scrape_id', 'last_scraped', 'source', 'name',\n",
       "       'description', 'neighborhood_overview', 'picture_url', 'host_id',\n",
       "       'host_url', 'host_name', 'host_since', 'host_location', 'host_about',\n",
       "       'host_response_time', 'host_response_rate', 'host_acceptance_rate',\n",
       "       'host_is_superhost', 'host_thumbnail_url', 'host_picture_url',\n",
       "       'host_neighbourhood', 'host_listings_count',\n",
       "       'host_total_listings_count', 'host_verifications',\n",
       "       'host_has_profile_pic', 'host_identity_verified', 'neighbourhood',\n",
       "       'neighbourhood_cleansed', 'neighbourhood_group_cleansed', 'latitude',\n",
       "       'longitude', 'property_type', 'room_type', 'accommodates', 'bathrooms',\n",
       "       'bathrooms_text', 'bedrooms', 'beds', 'amenities', 'price',\n",
       "       'minimum_nights', 'maximum_nights', 'minimum_minimum_nights',\n",
       "       'maximum_minimum_nights', 'minimum_maximum_nights',\n",
       "       'maximum_maximum_nights', 'minimum_nights_avg_ntm',\n",
       "       'maximum_nights_avg_ntm', 'calendar_updated', 'has_availability',\n",
       "       'availability_30', 'availability_60', 'availability_90',\n",
       "       'availability_365', 'calendar_last_scraped', 'number_of_reviews',\n",
       "       'number_of_reviews_ltm', 'number_of_reviews_l30d', 'first_review',\n",
       "       'last_review', 'review_scores_rating', 'review_scores_accuracy',\n",
       "       'review_scores_cleanliness', 'review_scores_checkin',\n",
       "       'review_scores_communication', 'review_scores_location',\n",
       "       'review_scores_value', 'license', 'instant_bookable',\n",
       "       'calculated_host_listings_count',\n",
       "       'calculated_host_listings_count_entire_homes',\n",
       "       'calculated_host_listings_count_private_rooms',\n",
       "       'calculated_host_listings_count_shared_rooms', 'reviews_per_month'],\n",
       "      dtype='object')"
      ]
     },
     "execution_count": 357,
     "metadata": {},
     "output_type": "execute_result"
    }
   ],
   "source": [
    "df_list.columns"
   ]
  },
  {
   "cell_type": "code",
   "execution_count": 358,
   "metadata": {},
   "outputs": [],
   "source": [
    "columns_not_incluted = ['id','listing_url', 'scrape_id', 'last_scraped', 'source', 'name',\n",
    "       'description', 'neighborhood_overview', 'picture_url', 'host_id',\n",
    "       'host_url', 'host_name', 'host_since', 'host_location', 'host_about',\n",
    "       'host_response_time', 'host_response_rate', 'host_acceptance_rate',\n",
    "       'host_is_superhost', 'host_thumbnail_url', 'host_picture_url',\n",
    "       'host_neighbourhood', 'host_listings_count',\n",
    "       'host_total_listings_count', 'host_verifications',\n",
    "       'host_has_profile_pic', 'host_identity_verified','latitude', 'longitude',\n",
    "       'calendar_last_scraped','first_review',\n",
    "       'last_review','license', \n",
    "       'minimum_nights', 'maximum_nights', 'minimum_minimum_nights',\n",
    "       'maximum_minimum_nights', 'minimum_maximum_nights',\n",
    "       'maximum_maximum_nights', 'minimum_nights_avg_ntm',\n",
    "       'maximum_nights_avg_ntm',\n",
    "       'calculated_host_listings_count',\n",
    "       'calculated_host_listings_count_entire_homes',\n",
    "       'calculated_host_listings_count_private_rooms',\n",
    "       'calculated_host_listings_count_shared_rooms'\n",
    "       ]"
   ]
  },
  {
   "cell_type": "code",
   "execution_count": 359,
   "metadata": {},
   "outputs": [
    {
     "data": {
      "text/html": [
       "<div>\n",
       "<style scoped>\n",
       "    .dataframe tbody tr th:only-of-type {\n",
       "        vertical-align: middle;\n",
       "    }\n",
       "\n",
       "    .dataframe tbody tr th {\n",
       "        vertical-align: top;\n",
       "    }\n",
       "\n",
       "    .dataframe thead th {\n",
       "        text-align: right;\n",
       "    }\n",
       "</style>\n",
       "<table border=\"1\" class=\"dataframe\">\n",
       "  <thead>\n",
       "    <tr style=\"text-align: right;\">\n",
       "      <th></th>\n",
       "      <th>neighbourhood</th>\n",
       "      <th>neighbourhood_cleansed</th>\n",
       "      <th>neighbourhood_group_cleansed</th>\n",
       "      <th>property_type</th>\n",
       "      <th>room_type</th>\n",
       "      <th>accommodates</th>\n",
       "      <th>bathrooms</th>\n",
       "      <th>bathrooms_text</th>\n",
       "      <th>bedrooms</th>\n",
       "      <th>beds</th>\n",
       "      <th>...</th>\n",
       "      <th>number_of_reviews_l30d</th>\n",
       "      <th>review_scores_rating</th>\n",
       "      <th>review_scores_accuracy</th>\n",
       "      <th>review_scores_cleanliness</th>\n",
       "      <th>review_scores_checkin</th>\n",
       "      <th>review_scores_communication</th>\n",
       "      <th>review_scores_location</th>\n",
       "      <th>review_scores_value</th>\n",
       "      <th>instant_bookable</th>\n",
       "      <th>reviews_per_month</th>\n",
       "    </tr>\n",
       "  </thead>\n",
       "  <tbody>\n",
       "    <tr>\n",
       "      <th>0</th>\n",
       "      <td>Brooklyn , New York, United States</td>\n",
       "      <td>Kensington</td>\n",
       "      <td>Brooklyn</td>\n",
       "      <td>Private room in rental unit</td>\n",
       "      <td>Private room</td>\n",
       "      <td>2</td>\n",
       "      <td>NaN</td>\n",
       "      <td>1 shared bath</td>\n",
       "      <td>1.0</td>\n",
       "      <td>1.0</td>\n",
       "      <td>...</td>\n",
       "      <td>0</td>\n",
       "      <td>4.89</td>\n",
       "      <td>4.88</td>\n",
       "      <td>5.00</td>\n",
       "      <td>5.00</td>\n",
       "      <td>5.00</td>\n",
       "      <td>4.75</td>\n",
       "      <td>4.88</td>\n",
       "      <td>f</td>\n",
       "      <td>0.11</td>\n",
       "    </tr>\n",
       "    <tr>\n",
       "      <th>1</th>\n",
       "      <td>New York, United States</td>\n",
       "      <td>Midtown</td>\n",
       "      <td>Manhattan</td>\n",
       "      <td>Entire rental unit</td>\n",
       "      <td>Entire home/apt</td>\n",
       "      <td>1</td>\n",
       "      <td>NaN</td>\n",
       "      <td>1 bath</td>\n",
       "      <td>NaN</td>\n",
       "      <td>1.0</td>\n",
       "      <td>...</td>\n",
       "      <td>0</td>\n",
       "      <td>4.68</td>\n",
       "      <td>4.73</td>\n",
       "      <td>4.63</td>\n",
       "      <td>4.77</td>\n",
       "      <td>4.80</td>\n",
       "      <td>4.81</td>\n",
       "      <td>4.40</td>\n",
       "      <td>f</td>\n",
       "      <td>0.31</td>\n",
       "    </tr>\n",
       "    <tr>\n",
       "      <th>2</th>\n",
       "      <td>NaN</td>\n",
       "      <td>Bedford-Stuyvesant</td>\n",
       "      <td>Brooklyn</td>\n",
       "      <td>Private room in rental unit</td>\n",
       "      <td>Private room</td>\n",
       "      <td>2</td>\n",
       "      <td>NaN</td>\n",
       "      <td>NaN</td>\n",
       "      <td>1.0</td>\n",
       "      <td>1.0</td>\n",
       "      <td>...</td>\n",
       "      <td>0</td>\n",
       "      <td>4.52</td>\n",
       "      <td>4.22</td>\n",
       "      <td>4.09</td>\n",
       "      <td>4.91</td>\n",
       "      <td>4.91</td>\n",
       "      <td>4.47</td>\n",
       "      <td>4.52</td>\n",
       "      <td>f</td>\n",
       "      <td>0.31</td>\n",
       "    </tr>\n",
       "    <tr>\n",
       "      <th>3</th>\n",
       "      <td>NaN</td>\n",
       "      <td>Ridgewood</td>\n",
       "      <td>Queens</td>\n",
       "      <td>Entire townhouse</td>\n",
       "      <td>Entire home/apt</td>\n",
       "      <td>16</td>\n",
       "      <td>NaN</td>\n",
       "      <td>2.5 baths</td>\n",
       "      <td>5.0</td>\n",
       "      <td>10.0</td>\n",
       "      <td>...</td>\n",
       "      <td>0</td>\n",
       "      <td>4.42</td>\n",
       "      <td>4.64</td>\n",
       "      <td>4.36</td>\n",
       "      <td>4.82</td>\n",
       "      <td>5.00</td>\n",
       "      <td>4.82</td>\n",
       "      <td>4.55</td>\n",
       "      <td>f</td>\n",
       "      <td>0.10</td>\n",
       "    </tr>\n",
       "    <tr>\n",
       "      <th>4</th>\n",
       "      <td>NaN</td>\n",
       "      <td>Sunset Park</td>\n",
       "      <td>Brooklyn</td>\n",
       "      <td>Entire rental unit</td>\n",
       "      <td>Entire home/apt</td>\n",
       "      <td>4</td>\n",
       "      <td>NaN</td>\n",
       "      <td>1.5 baths</td>\n",
       "      <td>2.0</td>\n",
       "      <td>2.0</td>\n",
       "      <td>...</td>\n",
       "      <td>1</td>\n",
       "      <td>5.00</td>\n",
       "      <td>5.00</td>\n",
       "      <td>5.00</td>\n",
       "      <td>5.00</td>\n",
       "      <td>5.00</td>\n",
       "      <td>4.67</td>\n",
       "      <td>5.00</td>\n",
       "      <td>f</td>\n",
       "      <td>0.03</td>\n",
       "    </tr>\n",
       "  </tbody>\n",
       "</table>\n",
       "<p>5 rows × 30 columns</p>\n",
       "</div>"
      ],
      "text/plain": [
       "                        neighbourhood neighbourhood_cleansed  \\\n",
       "0  Brooklyn , New York, United States             Kensington   \n",
       "1             New York, United States                Midtown   \n",
       "2                                 NaN     Bedford-Stuyvesant   \n",
       "3                                 NaN              Ridgewood   \n",
       "4                                 NaN            Sunset Park   \n",
       "\n",
       "  neighbourhood_group_cleansed                property_type        room_type  \\\n",
       "0                     Brooklyn  Private room in rental unit     Private room   \n",
       "1                    Manhattan           Entire rental unit  Entire home/apt   \n",
       "2                     Brooklyn  Private room in rental unit     Private room   \n",
       "3                       Queens             Entire townhouse  Entire home/apt   \n",
       "4                     Brooklyn           Entire rental unit  Entire home/apt   \n",
       "\n",
       "   accommodates  bathrooms bathrooms_text  bedrooms  beds  ...  \\\n",
       "0             2        NaN  1 shared bath       1.0   1.0  ...   \n",
       "1             1        NaN         1 bath       NaN   1.0  ...   \n",
       "2             2        NaN            NaN       1.0   1.0  ...   \n",
       "3            16        NaN      2.5 baths       5.0  10.0  ...   \n",
       "4             4        NaN      1.5 baths       2.0   2.0  ...   \n",
       "\n",
       "  number_of_reviews_l30d review_scores_rating  review_scores_accuracy  \\\n",
       "0                      0                 4.89                    4.88   \n",
       "1                      0                 4.68                    4.73   \n",
       "2                      0                 4.52                    4.22   \n",
       "3                      0                 4.42                    4.64   \n",
       "4                      1                 5.00                    5.00   \n",
       "\n",
       "  review_scores_cleanliness  review_scores_checkin  \\\n",
       "0                      5.00                   5.00   \n",
       "1                      4.63                   4.77   \n",
       "2                      4.09                   4.91   \n",
       "3                      4.36                   4.82   \n",
       "4                      5.00                   5.00   \n",
       "\n",
       "   review_scores_communication  review_scores_location  review_scores_value  \\\n",
       "0                         5.00                    4.75                 4.88   \n",
       "1                         4.80                    4.81                 4.40   \n",
       "2                         4.91                    4.47                 4.52   \n",
       "3                         5.00                    4.82                 4.55   \n",
       "4                         5.00                    4.67                 5.00   \n",
       "\n",
       "   instant_bookable  reviews_per_month  \n",
       "0                 f               0.11  \n",
       "1                 f               0.31  \n",
       "2                 f               0.31  \n",
       "3                 f               0.10  \n",
       "4                 f               0.03  \n",
       "\n",
       "[5 rows x 30 columns]"
      ]
     },
     "execution_count": 359,
     "metadata": {},
     "output_type": "execute_result"
    }
   ],
   "source": [
    "df_list = df_list.drop(columns_not_incluted, axis=1)\n",
    "df_list.head(5)"
   ]
  },
  {
   "cell_type": "code",
   "execution_count": 360,
   "metadata": {},
   "outputs": [
    {
     "data": {
      "text/plain": [
       "(array(['1 shared bath', '1 bath', nan, '2.5 baths', '1.5 baths',\n",
       "        '1 private bath', '1.5 shared baths', '2 baths', '2 shared baths',\n",
       "        'Shared half-bath', '3 baths', 'Half-bath', '0 baths',\n",
       "        '0 shared baths', 'Private half-bath', '4 baths', '4.5 baths',\n",
       "        '5.5 baths', '2.5 shared baths', '3.5 baths', '5 baths',\n",
       "        '3 shared baths', '4 shared baths', '6 baths', '3.5 shared baths',\n",
       "        '4.5 shared baths', '7.5 baths', '6.5 baths', '7 baths',\n",
       "        '6 shared baths', '9.5 baths'], dtype=object),\n",
       " 84)"
      ]
     },
     "execution_count": 360,
     "metadata": {},
     "output_type": "execute_result"
    }
   ],
   "source": [
    "df_list['bathrooms_text'].unique(), df_list['bathrooms_text'].isna().sum()"
   ]
  },
  {
   "cell_type": "code",
   "execution_count": 361,
   "metadata": {},
   "outputs": [
    {
     "data": {
      "text/plain": [
       "array([ 1., 10.,  2.,  5.,  3.,  8.,  4.,  6., nan,  9.,  7., 18., 12.,\n",
       "       16., 11., 21., 13., 24., 17., 14.])"
      ]
     },
     "execution_count": 361,
     "metadata": {},
     "output_type": "execute_result"
    }
   ],
   "source": [
    "df_list['beds'].unique()"
   ]
  },
  {
   "cell_type": "code",
   "execution_count": 362,
   "metadata": {},
   "outputs": [
    {
     "data": {
      "text/plain": [
       "neighbourhood                  16414\n",
       "bathrooms                      39881\n",
       "bathrooms_text                    84\n",
       "bedrooms                        3783\n",
       "beds                             884\n",
       "calendar_updated               39881\n",
       "review_scores_rating            8362\n",
       "review_scores_accuracy          8825\n",
       "review_scores_cleanliness       8815\n",
       "review_scores_checkin           8829\n",
       "review_scores_communication     8820\n",
       "review_scores_location          8832\n",
       "review_scores_value             8832\n",
       "reviews_per_month               8362\n",
       "dtype: int64"
      ]
     },
     "execution_count": 362,
     "metadata": {},
     "output_type": "execute_result"
    }
   ],
   "source": [
    "df_list.isna().sum()[df_list.isna().sum() > 0]"
   ]
  },
  {
   "cell_type": "code",
   "execution_count": 363,
   "metadata": {},
   "outputs": [],
   "source": [
    "columns_with_nulls = ['neighbourhood' ,'neighbourhood_group_cleansed', 'bathrooms', 'calendar_updated']"
   ]
  },
  {
   "cell_type": "code",
   "execution_count": 364,
   "metadata": {},
   "outputs": [],
   "source": [
    "df_list = df_list.drop(columns_with_nulls, axis=1)"
   ]
  },
  {
   "cell_type": "code",
   "execution_count": 365,
   "metadata": {},
   "outputs": [
    {
     "data": {
      "text/plain": [
       "((27578, 26),\n",
       " Index(['neighbourhood_cleansed', 'property_type', 'room_type', 'accommodates',\n",
       "        'bathrooms_text', 'bedrooms', 'beds', 'amenities', 'price',\n",
       "        'has_availability', 'availability_30', 'availability_60',\n",
       "        'availability_90', 'availability_365', 'number_of_reviews',\n",
       "        'number_of_reviews_ltm', 'number_of_reviews_l30d',\n",
       "        'review_scores_rating', 'review_scores_accuracy',\n",
       "        'review_scores_cleanliness', 'review_scores_checkin',\n",
       "        'review_scores_communication', 'review_scores_location',\n",
       "        'review_scores_value', 'instant_bookable', 'reviews_per_month'],\n",
       "       dtype='object'))"
      ]
     },
     "execution_count": 365,
     "metadata": {},
     "output_type": "execute_result"
    }
   ],
   "source": [
    "#df_list = df_list[df_list['reviews_per_month'] > 0]\n",
    "df_list = df_list.dropna()\n",
    "df_list.isna().sum()[df_list.isna().sum() > 0]\n",
    "df_list.shape, df_list.columns"
   ]
  },
  {
   "cell_type": "code",
   "execution_count": 366,
   "metadata": {},
   "outputs": [
    {
     "data": {
      "text/plain": [
       "neighbourhood_cleansed          object\n",
       "property_type                   object\n",
       "room_type                       object\n",
       "accommodates                     int64\n",
       "bathrooms_text                  object\n",
       "bedrooms                       float64\n",
       "beds                           float64\n",
       "amenities                       object\n",
       "price                           object\n",
       "has_availability                object\n",
       "availability_30                  int64\n",
       "availability_60                  int64\n",
       "availability_90                  int64\n",
       "availability_365                 int64\n",
       "number_of_reviews                int64\n",
       "number_of_reviews_ltm            int64\n",
       "number_of_reviews_l30d           int64\n",
       "review_scores_rating           float64\n",
       "review_scores_accuracy         float64\n",
       "review_scores_cleanliness      float64\n",
       "review_scores_checkin          float64\n",
       "review_scores_communication    float64\n",
       "review_scores_location         float64\n",
       "review_scores_value            float64\n",
       "instant_bookable                object\n",
       "reviews_per_month              float64\n",
       "dtype: object"
      ]
     },
     "execution_count": 366,
     "metadata": {},
     "output_type": "execute_result"
    }
   ],
   "source": [
    "df_list.dtypes"
   ]
  },
  {
   "cell_type": "code",
   "execution_count": 367,
   "metadata": {},
   "outputs": [],
   "source": [
    "not_numeric = ['neighbourhood_cleansed', 'property_type', 'room_type', 'bathrooms_text', 'amenities', 'has_availability', 'instant_bookable']\n",
    "binary_column = ['has_availability', 'instant_bookable']\n",
    "not_handled = ['bathrooms_text']"
   ]
  },
  {
   "cell_type": "code",
   "execution_count": 368,
   "metadata": {},
   "outputs": [],
   "source": [
    "from sklearn.preprocessing import OneHotEncoder, OrdinalEncoder"
   ]
  },
  {
   "cell_type": "code",
   "execution_count": 369,
   "metadata": {},
   "outputs": [],
   "source": [
    "encoder = OrdinalEncoder(categories=[['f','t']])\n",
    "df_list['has_availability'] = encoder.fit_transform(df_list[['has_availability']])\n",
    "df_list['instant_bookable'] = encoder.fit_transform(df_list[['instant_bookable']])\n",
    "df_list['has_availability'] = df_list['has_availability'].astype('int')\n",
    "df_list['instant_bookable'] = df_list['instant_bookable'].astype('int')"
   ]
  },
  {
   "cell_type": "code",
   "execution_count": 370,
   "metadata": {},
   "outputs": [],
   "source": [
    "from re import sub\n",
    "def remove_dollar_sign(price:str):\n",
    "    return price.replace('$','').replace(',','')\n",
    "\n",
    "def remove_quotes(value:str):\n",
    "    return value.replace('\"','')\n",
    "\n",
    "def remove_weird_signs(row):\n",
    "    row = row.encode('ascii', 'ignore').strip().decode('unicode_escape').replace('\"','').replace('[','').replace(']','')\n",
    "    row = ''.join([i if ord(i) < 128 else '' for i in row])\n",
    "    row_as_list = row.split(',')\n",
    "    row_as_list = [x.strip() for x in row_as_list]\n",
    "    return ','.join(row_as_list)\n",
    "\n",
    "def clear_amenities(row):\n",
    "    to_clear = ['wifi','childrens','tv','sound','parking','refrigerator','dryer','washer','clothing','stove','oven','pool','gym','breakfast','garage','sauna','garden',\n",
    "    'heating','hot tub','console','conditioning','chair','crib','housekeeping','free carport on premises','kitchen', 'ev charger', 'pillows', ' bar',  'fitness','restaurant']\n",
    "    row = [x for x in row if x not in 'chair']\n",
    "    cosmetics = ['conditioner', 'soap', 'shampoo', 'toiletries']\n",
    "    sound = ['sound', 'speaker']\n",
    "    row = ['cosmetics' if any(cos in x for cos in cosmetics) else x.lower() for x in row]\n",
    "    row = ['sound' if any(cos in x for cos in sound) else x.lower() for x in row]\n",
    "    for item in to_clear:\n",
    "        row = [f'{item}' if f'{item}' in x.lower() else x.lower() for x in row]\n",
    "    return row"
   ]
  },
  {
   "cell_type": "code",
   "execution_count": 371,
   "metadata": {},
   "outputs": [],
   "source": [
    "df_list['price'] =  df_list['price'].apply(remove_dollar_sign).astype('float32')\n",
    "df_list['amenities'] = df_list['amenities'].apply(clear_amenities)"
   ]
  },
  {
   "cell_type": "code",
   "execution_count": 372,
   "metadata": {},
   "outputs": [
    {
     "data": {
      "text/plain": [
       "array(['Private room in rental unit', 'Entire townhouse',\n",
       "       'Entire rental unit', 'Room in boutique hotel',\n",
       "       'Private room in bed and breakfast', 'Private room in townhouse',\n",
       "       'Private room in home', 'Private room in condo',\n",
       "       'Private room in loft', 'Entire guesthouse', 'Entire guest suite',\n",
       "       'Entire loft', 'Private room in guest suite',\n",
       "       'Entire serviced apartment', 'Entire condo', 'Entire home',\n",
       "       'Shared room in loft', 'Private room in houseboat',\n",
       "       'Shared room in rental unit', 'Shared room in home',\n",
       "       'Private room', 'Entire place', 'Private room in guesthouse',\n",
       "       'Room in aparthotel', 'Entire cottage',\n",
       "       'Private room in serviced apartment', 'Boat', 'Cave',\n",
       "       'Room in serviced apartment', 'Tiny home', 'Shared room in condo',\n",
       "       'Floor', 'Private room in hostel',\n",
       "       'Private room in casa particular', 'Room in hotel',\n",
       "       'Shared room in townhouse', 'Private room in bungalow',\n",
       "       'Houseboat', 'Entire bungalow', 'Private room in resort',\n",
       "       'Entire villa', 'Shared room in guest suite',\n",
       "       'Private room in villa', 'Shared room in floor',\n",
       "       'Private room in tent', 'Shared room in hostel', 'Room in resort',\n",
       "       'Shared room in guesthouse', 'Room in bed and breakfast',\n",
       "       'Private room in tiny home', 'Shared room in serviced apartment',\n",
       "       'Shared room in bungalow', 'Private room in earthen home',\n",
       "       'Lighthouse', 'Barn', 'Casa particular',\n",
       "       'Private room in vacation home', 'Camper/RV',\n",
       "       'Entire vacation home', 'Private room in minsu', 'Shared room',\n",
       "       'Shared room in vacation home', 'Shared room in bed and breakfast',\n",
       "       'Shared room in casa particular', 'Tower'], dtype=object)"
      ]
     },
     "execution_count": 372,
     "metadata": {},
     "output_type": "execute_result"
    }
   ],
   "source": [
    "df_list['property_type'].unique()"
   ]
  },
  {
   "cell_type": "code",
   "execution_count": 373,
   "metadata": {},
   "outputs": [],
   "source": [
    "def clean_property_type(row):\n",
    "    property_type_remove = ['entire', 'private', 'room','tiny', 'in',  'shared']\n",
    "    row_list = row.split()\n",
    "    row_list = [x for x in row_list if x.lower() not in property_type_remove]\n",
    "    return ' '.join(row_list).lower()"
   ]
  },
  {
   "cell_type": "code",
   "execution_count": 374,
   "metadata": {},
   "outputs": [],
   "source": [
    "df_list['property_type'] = df_list['property_type'].apply(clean_property_type)"
   ]
  },
  {
   "cell_type": "code",
   "execution_count": 375,
   "metadata": {},
   "outputs": [
    {
     "data": {
      "text/plain": [
       "array(['rental unit', 'townhouse', 'boutique hotel', 'bed and breakfast',\n",
       "       'home', 'condo', 'loft', 'guesthouse', 'guest suite',\n",
       "       'serviced apartment', 'houseboat', '', 'place', 'aparthotel',\n",
       "       'cottage', 'boat', 'cave', 'floor', 'hostel', 'casa particular',\n",
       "       'hotel', 'bungalow', 'resort', 'villa', 'tent', 'earthen home',\n",
       "       'lighthouse', 'barn', 'vacation home', 'camper/rv', 'minsu',\n",
       "       'tower'], dtype=object)"
      ]
     },
     "execution_count": 375,
     "metadata": {},
     "output_type": "execute_result"
    }
   ],
   "source": [
    "df_list['property_type'].unique()"
   ]
  },
  {
   "cell_type": "code",
   "execution_count": 376,
   "metadata": {},
   "outputs": [
    {
     "data": {
      "text/plain": [
       "array(['1 shared bath', '2.5 baths', '1.5 baths', '1 private bath',\n",
       "       '1 bath', '1.5 shared baths', '2 baths', '2 shared baths',\n",
       "       'Shared half-bath', '3 baths', 'Half-bath', '0 shared baths',\n",
       "       'Private half-bath', '4 baths', '4.5 baths', '5.5 baths',\n",
       "       '2.5 shared baths', '3.5 baths', '0 baths', '3 shared baths',\n",
       "       '5 baths', '4 shared baths', '6 baths', '4.5 shared baths',\n",
       "       '6.5 baths', '7 baths', '6 shared baths'], dtype=object)"
      ]
     },
     "execution_count": 376,
     "metadata": {},
     "output_type": "execute_result"
    }
   ],
   "source": [
    "#need to be saperate to number and isbathshared\n",
    "df_list['bathrooms_text'].unique()"
   ]
  },
  {
   "cell_type": "code",
   "execution_count": 377,
   "metadata": {},
   "outputs": [],
   "source": [
    "def set_bath_type(bath:str) -> str:\n",
    "    if('shared'):\n",
    "        return 1\n",
    "    else:\n",
    "        return 0"
   ]
  },
  {
   "cell_type": "code",
   "execution_count": 378,
   "metadata": {},
   "outputs": [],
   "source": [
    "def set_baths_number(bath:str) -> float:\n",
    "    import re\n",
    "    bath = bath.lower().replace('half','0.5')\n",
    "    bath = re.findall(r\"[-+]?(?:\\d*\\.*\\d+)\", bath)[0]\n",
    "    return float(bath)"
   ]
  },
  {
   "cell_type": "code",
   "execution_count": 379,
   "metadata": {},
   "outputs": [],
   "source": [
    "df_list['bath_number'] = df_list['bathrooms_text'].apply(set_baths_number).astype('float32')\n",
    "df_list['bath_is_shared'] = df_list['bathrooms_text'].apply(set_bath_type).astype('int')"
   ]
  },
  {
   "cell_type": "code",
   "execution_count": 380,
   "metadata": {},
   "outputs": [
    {
     "data": {
      "text/html": [
       "<div>\n",
       "<style scoped>\n",
       "    .dataframe tbody tr th:only-of-type {\n",
       "        vertical-align: middle;\n",
       "    }\n",
       "\n",
       "    .dataframe tbody tr th {\n",
       "        vertical-align: top;\n",
       "    }\n",
       "\n",
       "    .dataframe thead th {\n",
       "        text-align: right;\n",
       "    }\n",
       "</style>\n",
       "<table border=\"1\" class=\"dataframe\">\n",
       "  <thead>\n",
       "    <tr style=\"text-align: right;\">\n",
       "      <th></th>\n",
       "      <th>neighbourhood_cleansed</th>\n",
       "      <th>property_type</th>\n",
       "      <th>room_type</th>\n",
       "      <th>accommodates</th>\n",
       "      <th>bathrooms_text</th>\n",
       "      <th>bedrooms</th>\n",
       "      <th>beds</th>\n",
       "      <th>amenities</th>\n",
       "      <th>price</th>\n",
       "      <th>has_availability</th>\n",
       "      <th>...</th>\n",
       "      <th>review_scores_accuracy</th>\n",
       "      <th>review_scores_cleanliness</th>\n",
       "      <th>review_scores_checkin</th>\n",
       "      <th>review_scores_communication</th>\n",
       "      <th>review_scores_location</th>\n",
       "      <th>review_scores_value</th>\n",
       "      <th>instant_bookable</th>\n",
       "      <th>reviews_per_month</th>\n",
       "      <th>bath_number</th>\n",
       "      <th>bath_is_shared</th>\n",
       "    </tr>\n",
       "  </thead>\n",
       "  <tbody>\n",
       "    <tr>\n",
       "      <th>0</th>\n",
       "      <td>Kensington</td>\n",
       "      <td>rental unit</td>\n",
       "      <td>Private room</td>\n",
       "      <td>2</td>\n",
       "      <td>1 shared bath</td>\n",
       "      <td>1.0</td>\n",
       "      <td>1.0</td>\n",
       "      <td>[first aid kit, microwave, stove, coffee maker...</td>\n",
       "      <td>299.0</td>\n",
       "      <td>1</td>\n",
       "      <td>...</td>\n",
       "      <td>4.88</td>\n",
       "      <td>5.00</td>\n",
       "      <td>5.00</td>\n",
       "      <td>5.00</td>\n",
       "      <td>4.75</td>\n",
       "      <td>4.88</td>\n",
       "      <td>0</td>\n",
       "      <td>0.11</td>\n",
       "      <td>1.0</td>\n",
       "      <td>1</td>\n",
       "    </tr>\n",
       "    <tr>\n",
       "      <th>3</th>\n",
       "      <td>Ridgewood</td>\n",
       "      <td>townhouse</td>\n",
       "      <td>Entire home/apt</td>\n",
       "      <td>16</td>\n",
       "      <td>2.5 baths</td>\n",
       "      <td>5.0</td>\n",
       "      <td>10.0</td>\n",
       "      <td>[dryer, essentials, carbon monoxide alarm, iro...</td>\n",
       "      <td>425.0</td>\n",
       "      <td>1</td>\n",
       "      <td>...</td>\n",
       "      <td>4.64</td>\n",
       "      <td>4.36</td>\n",
       "      <td>4.82</td>\n",
       "      <td>5.00</td>\n",
       "      <td>4.82</td>\n",
       "      <td>4.55</td>\n",
       "      <td>0</td>\n",
       "      <td>0.10</td>\n",
       "      <td>2.5</td>\n",
       "      <td>1</td>\n",
       "    </tr>\n",
       "    <tr>\n",
       "      <th>4</th>\n",
       "      <td>Sunset Park</td>\n",
       "      <td>rental unit</td>\n",
       "      <td>Entire home/apt</td>\n",
       "      <td>4</td>\n",
       "      <td>1.5 baths</td>\n",
       "      <td>2.0</td>\n",
       "      <td>2.0</td>\n",
       "      <td>[dryer, tv, refrigerator, bbq grill, garden, h...</td>\n",
       "      <td>275.0</td>\n",
       "      <td>1</td>\n",
       "      <td>...</td>\n",
       "      <td>5.00</td>\n",
       "      <td>5.00</td>\n",
       "      <td>5.00</td>\n",
       "      <td>5.00</td>\n",
       "      <td>4.67</td>\n",
       "      <td>5.00</td>\n",
       "      <td>0</td>\n",
       "      <td>0.03</td>\n",
       "      <td>1.5</td>\n",
       "      <td>1</td>\n",
       "    </tr>\n",
       "    <tr>\n",
       "      <th>6</th>\n",
       "      <td>Greenpoint</td>\n",
       "      <td>boutique hotel</td>\n",
       "      <td>Hotel room</td>\n",
       "      <td>2</td>\n",
       "      <td>1 private bath</td>\n",
       "      <td>1.0</td>\n",
       "      <td>1.0</td>\n",
       "      <td>[first aid kit, coffee maker, gym, long term s...</td>\n",
       "      <td>308.0</td>\n",
       "      <td>1</td>\n",
       "      <td>...</td>\n",
       "      <td>4.98</td>\n",
       "      <td>4.95</td>\n",
       "      <td>4.98</td>\n",
       "      <td>4.88</td>\n",
       "      <td>4.46</td>\n",
       "      <td>4.78</td>\n",
       "      <td>0</td>\n",
       "      <td>0.30</td>\n",
       "      <td>1.0</td>\n",
       "      <td>1</td>\n",
       "    </tr>\n",
       "    <tr>\n",
       "      <th>7</th>\n",
       "      <td>Midtown</td>\n",
       "      <td>rental unit</td>\n",
       "      <td>Private room</td>\n",
       "      <td>2</td>\n",
       "      <td>1 bath</td>\n",
       "      <td>1.0</td>\n",
       "      <td>1.0</td>\n",
       "      <td>[cosmetics, microwave, laundromat nearby, mini...</td>\n",
       "      <td>68.0</td>\n",
       "      <td>1</td>\n",
       "      <td>...</td>\n",
       "      <td>4.24</td>\n",
       "      <td>3.75</td>\n",
       "      <td>4.66</td>\n",
       "      <td>4.46</td>\n",
       "      <td>4.88</td>\n",
       "      <td>4.40</td>\n",
       "      <td>0</td>\n",
       "      <td>3.39</td>\n",
       "      <td>1.0</td>\n",
       "      <td>1</td>\n",
       "    </tr>\n",
       "  </tbody>\n",
       "</table>\n",
       "<p>5 rows × 28 columns</p>\n",
       "</div>"
      ],
      "text/plain": [
       "  neighbourhood_cleansed   property_type        room_type  accommodates  \\\n",
       "0             Kensington     rental unit     Private room             2   \n",
       "3              Ridgewood       townhouse  Entire home/apt            16   \n",
       "4            Sunset Park     rental unit  Entire home/apt             4   \n",
       "6             Greenpoint  boutique hotel       Hotel room             2   \n",
       "7                Midtown     rental unit     Private room             2   \n",
       "\n",
       "   bathrooms_text  bedrooms  beds  \\\n",
       "0   1 shared bath       1.0   1.0   \n",
       "3       2.5 baths       5.0  10.0   \n",
       "4       1.5 baths       2.0   2.0   \n",
       "6  1 private bath       1.0   1.0   \n",
       "7          1 bath       1.0   1.0   \n",
       "\n",
       "                                           amenities  price  has_availability  \\\n",
       "0  [first aid kit, microwave, stove, coffee maker...  299.0                 1   \n",
       "3  [dryer, essentials, carbon monoxide alarm, iro...  425.0                 1   \n",
       "4  [dryer, tv, refrigerator, bbq grill, garden, h...  275.0                 1   \n",
       "6  [first aid kit, coffee maker, gym, long term s...  308.0                 1   \n",
       "7  [cosmetics, microwave, laundromat nearby, mini...   68.0                 1   \n",
       "\n",
       "   ...  review_scores_accuracy  review_scores_cleanliness  \\\n",
       "0  ...                    4.88                       5.00   \n",
       "3  ...                    4.64                       4.36   \n",
       "4  ...                    5.00                       5.00   \n",
       "6  ...                    4.98                       4.95   \n",
       "7  ...                    4.24                       3.75   \n",
       "\n",
       "   review_scores_checkin  review_scores_communication  review_scores_location  \\\n",
       "0                   5.00                         5.00                    4.75   \n",
       "3                   4.82                         5.00                    4.82   \n",
       "4                   5.00                         5.00                    4.67   \n",
       "6                   4.98                         4.88                    4.46   \n",
       "7                   4.66                         4.46                    4.88   \n",
       "\n",
       "   review_scores_value  instant_bookable  reviews_per_month  bath_number  \\\n",
       "0                 4.88                 0               0.11          1.0   \n",
       "3                 4.55                 0               0.10          2.5   \n",
       "4                 5.00                 0               0.03          1.5   \n",
       "6                 4.78                 0               0.30          1.0   \n",
       "7                 4.40                 0               3.39          1.0   \n",
       "\n",
       "   bath_is_shared  \n",
       "0               1  \n",
       "3               1  \n",
       "4               1  \n",
       "6               1  \n",
       "7               1  \n",
       "\n",
       "[5 rows x 28 columns]"
      ]
     },
     "execution_count": 380,
     "metadata": {},
     "output_type": "execute_result"
    }
   ],
   "source": [
    "df_list.head()"
   ]
  },
  {
   "cell_type": "code",
   "execution_count": 381,
   "metadata": {},
   "outputs": [
    {
     "data": {
      "text/plain": [
       "(27578, 27)"
      ]
     },
     "execution_count": 381,
     "metadata": {},
     "output_type": "execute_result"
    }
   ],
   "source": [
    "df_list = df_list.drop(columns=not_handled)\n",
    "df_list.shape"
   ]
  },
  {
   "cell_type": "code",
   "execution_count": 382,
   "metadata": {},
   "outputs": [],
   "source": [
    "df_list_without_dummies = df_list.copy()"
   ]
  },
  {
   "cell_type": "code",
   "execution_count": 383,
   "metadata": {},
   "outputs": [
    {
     "data": {
      "text/plain": [
       "995.0"
      ]
     },
     "execution_count": 383,
     "metadata": {},
     "output_type": "execute_result"
    }
   ],
   "source": [
    "df_list[\"price\"].quantile(0.99)"
   ]
  },
  {
   "cell_type": "code",
   "execution_count": 384,
   "metadata": {},
   "outputs": [
    {
     "data": {
      "text/plain": [
       "361.0"
      ]
     },
     "execution_count": 384,
     "metadata": {},
     "output_type": "execute_result"
    }
   ],
   "source": [
    "df_list[\"availability_365\"].quantile(0.97)"
   ]
  },
  {
   "cell_type": "code",
   "execution_count": 385,
   "metadata": {},
   "outputs": [
    {
     "data": {
      "text/plain": [
       "979.130000000001"
      ]
     },
     "execution_count": 385,
     "metadata": {},
     "output_type": "execute_result"
    }
   ],
   "source": [
    "df_list = df_list[df_list['availability_365'] != 365]\n",
    "df_list[\"price\"].quantile(0.99)"
   ]
  },
  {
   "cell_type": "code",
   "execution_count": 386,
   "metadata": {},
   "outputs": [],
   "source": [
    "df_list = df_list[(df_list['price']) < (df_list[\"price\"].quantile(0.99))]"
   ]
  },
  {
   "cell_type": "code",
   "execution_count": 387,
   "metadata": {},
   "outputs": [
    {
     "name": "stderr",
     "output_type": "stream",
     "text": [
      "C:\\Users\\manar\\AppData\\Local\\Temp\\ipykernel_16432\\2584880822.py:1: FutureWarning: The default dtype for empty Series will be 'object' instead of 'float64' in a future version. Specify a dtype explicitly to silence this warning.\n",
      "  amenities_dummies = pd.get_dummies(df_list['amenities'].apply(pd.Series).stack()).groupby(level=0).sum()\n"
     ]
    },
    {
     "data": {
      "text/plain": [
       "(26916, 429)"
      ]
     },
     "execution_count": 387,
     "metadata": {},
     "output_type": "execute_result"
    }
   ],
   "source": [
    "amenities_dummies = pd.get_dummies(df_list['amenities'].apply(pd.Series).stack()).groupby(level=0).sum()\n",
    "df_list = df_list.join(amenities_dummies)\n",
    "df_list = df_list.drop(columns=['amenities'])\n",
    "df_list =  pd.get_dummies(df_list)\n",
    "\n",
    "df_list.shape"
   ]
  },
  {
   "cell_type": "code",
   "execution_count": 388,
   "metadata": {},
   "outputs": [
    {
     "data": {
      "text/plain": [
       "Index(['accommodates', 'bedrooms', 'beds', 'price', 'has_availability',\n",
       "       'availability_30', 'availability_60', 'availability_90',\n",
       "       'availability_365', 'number_of_reviews',\n",
       "       ...\n",
       "       'property_type_serviced apartment', 'property_type_tent',\n",
       "       'property_type_tower', 'property_type_townhouse',\n",
       "       'property_type_vacation home', 'property_type_villa',\n",
       "       'room_type_Entire home/apt', 'room_type_Hotel room',\n",
       "       'room_type_Private room', 'room_type_Shared room'],\n",
       "      dtype='object', length=429)"
      ]
     },
     "execution_count": 388,
     "metadata": {},
     "output_type": "execute_result"
    }
   ],
   "source": [
    "df_list.columns"
   ]
  },
  {
   "cell_type": "code",
   "execution_count": 389,
   "metadata": {},
   "outputs": [
    {
     "data": {
      "text/plain": [
       "(26916, 429)"
      ]
     },
     "execution_count": 389,
     "metadata": {},
     "output_type": "execute_result"
    }
   ],
   "source": [
    "df_list.shape"
   ]
  },
  {
   "cell_type": "code",
   "execution_count": 390,
   "metadata": {},
   "outputs": [
    {
     "data": {
      "text/plain": [
       "(26915, 429)"
      ]
     },
     "execution_count": 390,
     "metadata": {},
     "output_type": "execute_result"
    }
   ],
   "source": [
    "df_list = df_list.dropna()\n",
    "df_list.shape"
   ]
  },
  {
   "cell_type": "code",
   "execution_count": 391,
   "metadata": {},
   "outputs": [],
   "source": [
    "df_list_without_dummies.to_csv('df_without_dummies.csv')\n",
    "df_list.to_csv('df_with_dummies.csv')"
   ]
  },
  {
   "cell_type": "code",
   "execution_count": 392,
   "metadata": {},
   "outputs": [
    {
     "data": {
      "text/plain": [
       "count    26915.000000\n",
       "mean       165.651230\n",
       "std        130.634628\n",
       "min         10.000000\n",
       "25%         78.000000\n",
       "50%        126.000000\n",
       "75%        200.000000\n",
       "max        979.000000\n",
       "Name: price, dtype: float64"
      ]
     },
     "execution_count": 392,
     "metadata": {},
     "output_type": "execute_result"
    }
   ],
   "source": [
    "df_list['price'].describe()"
   ]
  }
 ],
 "metadata": {
  "kernelspec": {
   "display_name": "Python 3",
   "language": "python",
   "name": "python3"
  },
  "language_info": {
   "codemirror_mode": {
    "name": "ipython",
    "version": 3
   },
   "file_extension": ".py",
   "mimetype": "text/x-python",
   "name": "python",
   "nbconvert_exporter": "python",
   "pygments_lexer": "ipython3",
   "version": "3.10.9"
  },
  "orig_nbformat": 4,
  "vscode": {
   "interpreter": {
    "hash": "e6a6e11e4da8db2e5c33e964a64b7ad327a3cd8023fd813c59f97dd957741255"
   }
  }
 },
 "nbformat": 4,
 "nbformat_minor": 2
}

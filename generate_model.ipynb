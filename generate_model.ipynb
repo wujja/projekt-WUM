{
 "cells": [
  {
   "cell_type": "code",
   "execution_count": 105,
   "metadata": {},
   "outputs": [],
   "source": [
    "import pandas as pd\n",
    "import keras\n",
    "from keras import layers\n",
    "import keras_tuner\n",
    "from keras import optimizers\n",
    "from keras.callbacks import EarlyStopping\n",
    "from sklearn.model_selection import train_test_split"
   ]
  },
  {
   "cell_type": "code",
   "execution_count": 106,
   "metadata": {},
   "outputs": [],
   "source": [
    "df_list = pd.read_csv('df_with_dummies.csv', index_col=0)"
   ]
  },
  {
   "cell_type": "code",
   "execution_count": 107,
   "metadata": {},
   "outputs": [
    {
     "data": {
      "text/plain": [
       "(26915, 429)"
      ]
     },
     "execution_count": 107,
     "metadata": {},
     "output_type": "execute_result"
    }
   ],
   "source": [
    "df_list.shape"
   ]
  },
  {
   "cell_type": "code",
   "execution_count": 108,
   "metadata": {},
   "outputs": [],
   "source": [
    "df_list_Y = df_list['price']"
   ]
  },
  {
   "cell_type": "code",
   "execution_count": 109,
   "metadata": {},
   "outputs": [],
   "source": [
    "df_list = df_list.drop(columns=['price'])\n",
    "df_list = df_list.select_dtypes(['number'])"
   ]
  },
  {
   "cell_type": "code",
   "execution_count": 110,
   "metadata": {},
   "outputs": [],
   "source": [
    "X_train, X_test, y_train, y_test = train_test_split(df_list, df_list_Y, test_size=0.3, random_state=42)"
   ]
  },
  {
   "cell_type": "code",
   "execution_count": 111,
   "metadata": {},
   "outputs": [
    {
     "data": {
      "text/plain": [
       "2691"
      ]
     },
     "execution_count": 111,
     "metadata": {},
     "output_type": "execute_result"
    }
   ],
   "source": [
    "val_amount = int(df_list.shape[0]*0.1)\n",
    "val_amount"
   ]
  },
  {
   "cell_type": "code",
   "execution_count": 112,
   "metadata": {},
   "outputs": [
    {
     "data": {
      "text/plain": [
       "(26915, 428)"
      ]
     },
     "execution_count": 112,
     "metadata": {},
     "output_type": "execute_result"
    }
   ],
   "source": [
    "df_list.shape"
   ]
  },
  {
   "cell_type": "code",
   "execution_count": 113,
   "metadata": {},
   "outputs": [],
   "source": [
    "val_X = X_train[0:val_amount]\n",
    "val_y = y_train.iloc[0:val_amount]\n",
    "X_train_part = X_train[val_amount:-1]\n",
    "y_train_part = y_train.iloc[val_amount:-1]"
   ]
  },
  {
   "cell_type": "code",
   "execution_count": 114,
   "metadata": {},
   "outputs": [],
   "source": [
    "callback = EarlyStopping(monitor='val_loss', patience= 3)"
   ]
  },
  {
   "cell_type": "code",
   "execution_count": 115,
   "metadata": {},
   "outputs": [],
   "source": [
    "def build_model(hp):\n",
    "    model = keras.Sequential()\n",
    "    for i in range(hp.Int('num_layers', 2,6)):\n",
    "        model.add(layers.Dense(units=hp.Int('units_' + str(i),\n",
    "                                            min_value=32,\n",
    "                                            max_value=256,\n",
    "                                            step=32),\n",
    "                               activation='relu'))\n",
    "        if hp.Boolean('dropout_' + str(i)):\n",
    "            model.add(layers.Dropout(rate=0.25))\n",
    "    model.add(layers.Dense(1))\n",
    "    learning_rate = hp.Float(\"lr\", min_value=1e-4, max_value=1e-2, sampling=\"log\")\n",
    "    model.compile(\n",
    "        optimizer=optimizers.RMSprop(learning_rate=learning_rate),\n",
    "        loss=\"mse\",\n",
    "        metrics=[keras.metrics.RootMeanSquaredError()]\n",
    "    )\n",
    "    return model"
   ]
  },
  {
   "cell_type": "code",
   "execution_count": 116,
   "metadata": {},
   "outputs": [
    {
     "name": "stdout",
     "output_type": "stream",
     "text": [
      "Search space summary\n",
      "Default search space size: 6\n",
      "num_layers (Int)\n",
      "{'default': None, 'conditions': [], 'min_value': 2, 'max_value': 6, 'step': 1, 'sampling': None}\n",
      "units_0 (Int)\n",
      "{'default': None, 'conditions': [], 'min_value': 32, 'max_value': 256, 'step': 32, 'sampling': None}\n",
      "dropout_0 (Boolean)\n",
      "{'default': False, 'conditions': []}\n",
      "units_1 (Int)\n",
      "{'default': None, 'conditions': [], 'min_value': 32, 'max_value': 256, 'step': 32, 'sampling': None}\n",
      "dropout_1 (Boolean)\n",
      "{'default': False, 'conditions': []}\n",
      "lr (Float)\n",
      "{'default': 0.0001, 'conditions': [], 'min_value': 0.0001, 'max_value': 0.01, 'step': None, 'sampling': 'log'}\n"
     ]
    }
   ],
   "source": [
    "tuner = keras_tuner.RandomSearch(\n",
    "    hypermodel=build_model,\n",
    "    objective=\"val_loss\",\n",
    "    max_trials=10,\n",
    "    executions_per_trial=2,\n",
    "    overwrite=True,\n",
    "    directory=\"my_dir\",\n",
    "    project_name=\"WUM\",\n",
    ")\n",
    "\n",
    "tuner.search_space_summary()"
   ]
  },
  {
   "cell_type": "code",
   "execution_count": 117,
   "metadata": {},
   "outputs": [
    {
     "name": "stdout",
     "output_type": "stream",
     "text": [
      "Trial 10 Complete [00h 02m 08s]\n",
      "val_loss: 7969.250244140625\n",
      "\n",
      "Best val_loss So Far: 6138.557861328125\n",
      "Total elapsed time: 00h 21m 57s\n",
      "INFO:tensorflow:Oracle triggered exit\n"
     ]
    }
   ],
   "source": [
    "tuner.search(X_train_part, y_train_part, epochs=15, validation_data=(val_X, val_y), callbacks=[callback])"
   ]
  },
  {
   "cell_type": "code",
   "execution_count": 118,
   "metadata": {},
   "outputs": [
    {
     "name": "stdout",
     "output_type": "stream",
     "text": [
      "Results summary\n",
      "Results in my_dir\\WUM\n",
      "Showing 10 best trials\n",
      "<keras_tuner.engine.objective.Objective object at 0x000002625EBCCB50>\n",
      "Trial summary\n",
      "Hyperparameters:\n",
      "num_layers: 3\n",
      "units_0: 224\n",
      "dropout_0: False\n",
      "units_1: 64\n",
      "dropout_1: False\n",
      "lr: 0.0013660049365971218\n",
      "units_2: 96\n",
      "dropout_2: False\n",
      "units_3: 192\n",
      "dropout_3: True\n",
      "units_4: 96\n",
      "dropout_4: False\n",
      "units_5: 64\n",
      "dropout_5: False\n",
      "Score: 6138.557861328125\n",
      "Trial summary\n",
      "Hyperparameters:\n",
      "num_layers: 4\n",
      "units_0: 128\n",
      "dropout_0: False\n",
      "units_1: 160\n",
      "dropout_1: False\n",
      "lr: 0.0009083541784678265\n",
      "units_2: 192\n",
      "dropout_2: False\n",
      "units_3: 32\n",
      "dropout_3: True\n",
      "units_4: 224\n",
      "dropout_4: False\n",
      "units_5: 160\n",
      "dropout_5: True\n",
      "Score: 6254.871337890625\n",
      "Trial summary\n",
      "Hyperparameters:\n",
      "num_layers: 3\n",
      "units_0: 160\n",
      "dropout_0: True\n",
      "units_1: 96\n",
      "dropout_1: False\n",
      "lr: 0.0005894233769751197\n",
      "units_2: 64\n",
      "dropout_2: False\n",
      "units_3: 256\n",
      "dropout_3: False\n",
      "Score: 6279.138916015625\n",
      "Trial summary\n",
      "Hyperparameters:\n",
      "num_layers: 4\n",
      "units_0: 192\n",
      "dropout_0: False\n",
      "units_1: 128\n",
      "dropout_1: False\n",
      "lr: 0.00029070791188026695\n",
      "units_2: 32\n",
      "dropout_2: False\n",
      "units_3: 32\n",
      "dropout_3: False\n",
      "Score: 6309.79248046875\n",
      "Trial summary\n",
      "Hyperparameters:\n",
      "num_layers: 4\n",
      "units_0: 256\n",
      "dropout_0: True\n",
      "units_1: 96\n",
      "dropout_1: False\n",
      "lr: 0.0009565578542137794\n",
      "units_2: 128\n",
      "dropout_2: True\n",
      "units_3: 192\n",
      "dropout_3: False\n",
      "Score: 6320.775634765625\n",
      "Trial summary\n",
      "Hyperparameters:\n",
      "num_layers: 6\n",
      "units_0: 64\n",
      "dropout_0: True\n",
      "units_1: 32\n",
      "dropout_1: False\n",
      "lr: 0.0019075154999746342\n",
      "units_2: 160\n",
      "dropout_2: True\n",
      "units_3: 192\n",
      "dropout_3: True\n",
      "units_4: 192\n",
      "dropout_4: False\n",
      "units_5: 32\n",
      "dropout_5: False\n",
      "Score: 6914.035400390625\n",
      "Trial summary\n",
      "Hyperparameters:\n",
      "num_layers: 3\n",
      "units_0: 64\n",
      "dropout_0: True\n",
      "units_1: 160\n",
      "dropout_1: False\n",
      "lr: 0.0008485251177463428\n",
      "units_2: 224\n",
      "dropout_2: True\n",
      "units_3: 128\n",
      "dropout_3: True\n",
      "units_4: 256\n",
      "dropout_4: False\n",
      "units_5: 128\n",
      "dropout_5: False\n",
      "Score: 7074.908203125\n",
      "Trial summary\n",
      "Hyperparameters:\n",
      "num_layers: 5\n",
      "units_0: 128\n",
      "dropout_0: False\n",
      "units_1: 32\n",
      "dropout_1: False\n",
      "lr: 0.00015661929982970204\n",
      "units_2: 64\n",
      "dropout_2: False\n",
      "units_3: 32\n",
      "dropout_3: True\n",
      "units_4: 160\n",
      "dropout_4: False\n",
      "Score: 7755.650390625\n",
      "Trial summary\n",
      "Hyperparameters:\n",
      "num_layers: 5\n",
      "units_0: 192\n",
      "dropout_0: True\n",
      "units_1: 64\n",
      "dropout_1: True\n",
      "lr: 0.0036829058136406694\n",
      "units_2: 96\n",
      "dropout_2: False\n",
      "units_3: 256\n",
      "dropout_3: False\n",
      "units_4: 32\n",
      "dropout_4: False\n",
      "Score: 7811.223388671875\n",
      "Trial summary\n",
      "Hyperparameters:\n",
      "num_layers: 6\n",
      "units_0: 32\n",
      "dropout_0: True\n",
      "units_1: 192\n",
      "dropout_1: False\n",
      "lr: 0.00025520811860159137\n",
      "units_2: 128\n",
      "dropout_2: False\n",
      "units_3: 128\n",
      "dropout_3: True\n",
      "units_4: 224\n",
      "dropout_4: False\n",
      "units_5: 128\n",
      "dropout_5: True\n",
      "Score: 7969.250244140625\n"
     ]
    }
   ],
   "source": [
    "tuner.results_summary()"
   ]
  }
 ],
 "metadata": {
  "kernelspec": {
   "display_name": "Python 3",
   "language": "python",
   "name": "python3"
  },
  "language_info": {
   "codemirror_mode": {
    "name": "ipython",
    "version": 3
   },
   "file_extension": ".py",
   "mimetype": "text/x-python",
   "name": "python",
   "nbconvert_exporter": "python",
   "pygments_lexer": "ipython3",
   "version": "3.10.9 (tags/v3.10.9:1dd9be6, Dec  6 2022, 20:01:21) [MSC v.1934 64 bit (AMD64)]"
  },
  "orig_nbformat": 4,
  "vscode": {
   "interpreter": {
    "hash": "e6a6e11e4da8db2e5c33e964a64b7ad327a3cd8023fd813c59f97dd957741255"
   }
  }
 },
 "nbformat": 4,
 "nbformat_minor": 2
}
